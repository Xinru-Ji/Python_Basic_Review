{
 "cells": [
  {
   "cell_type": "code",
   "execution_count": 1,
   "id": "84945e9a",
   "metadata": {},
   "outputs": [],
   "source": [
    "# 列表是可变的但是字符串不可变"
   ]
  },
  {
   "cell_type": "code",
   "execution_count": 3,
   "id": "f7d87cd9",
   "metadata": {},
   "outputs": [],
   "source": [
    "s = ['老大','老二','老三','老四']"
   ]
  },
  {
   "cell_type": "code",
   "execution_count": 4,
   "id": "549c1a25",
   "metadata": {},
   "outputs": [],
   "source": [
    "s[2]='third'"
   ]
  },
  {
   "cell_type": "code",
   "execution_count": 5,
   "id": "ab19ec3a",
   "metadata": {},
   "outputs": [
    {
     "data": {
      "text/plain": [
       "['老大', '老二', 'third', '老四']"
      ]
     },
     "execution_count": 5,
     "metadata": {},
     "output_type": "execute_result"
    }
   ],
   "source": [
    "s"
   ]
  },
  {
   "cell_type": "code",
   "execution_count": 6,
   "id": "cb487d9c",
   "metadata": {},
   "outputs": [],
   "source": [
    "s[1:]=['second','third','forth']"
   ]
  },
  {
   "cell_type": "code",
   "execution_count": 7,
   "id": "0aa3bf62",
   "metadata": {},
   "outputs": [
    {
     "data": {
      "text/plain": [
       "['老大', 'second', 'third', 'forth']"
      ]
     },
     "execution_count": 7,
     "metadata": {},
     "output_type": "execute_result"
    }
   ],
   "source": [
    "s"
   ]
  },
  {
   "cell_type": "code",
   "execution_count": 8,
   "id": "b45d1592",
   "metadata": {},
   "outputs": [],
   "source": [
    "nums = [2,45,6,2,7,8,34,8,14]"
   ]
  },
  {
   "cell_type": "code",
   "execution_count": 9,
   "id": "34ab7ba6",
   "metadata": {},
   "outputs": [
    {
     "data": {
      "text/plain": [
       "[2, 45, 6, 2, 7, 8, 34, 8, 14]"
      ]
     },
     "execution_count": 9,
     "metadata": {},
     "output_type": "execute_result"
    }
   ],
   "source": [
    "nums"
   ]
  },
  {
   "cell_type": "code",
   "execution_count": 10,
   "id": "57aaabbe",
   "metadata": {},
   "outputs": [],
   "source": [
    "nums.sort()"
   ]
  },
  {
   "cell_type": "code",
   "execution_count": 11,
   "id": "e6d43e9a",
   "metadata": {},
   "outputs": [
    {
     "data": {
      "text/plain": [
       "[2, 2, 6, 7, 8, 8, 14, 34, 45]"
      ]
     },
     "execution_count": 11,
     "metadata": {},
     "output_type": "execute_result"
    }
   ],
   "source": [
    "nums"
   ]
  },
  {
   "cell_type": "code",
   "execution_count": 12,
   "id": "87902693",
   "metadata": {},
   "outputs": [],
   "source": [
    "nums.sort(reverse = True)"
   ]
  },
  {
   "cell_type": "code",
   "execution_count": 13,
   "id": "dfe9726f",
   "metadata": {},
   "outputs": [
    {
     "data": {
      "text/plain": [
       "[45, 34, 14, 8, 8, 7, 6, 2, 2]"
      ]
     },
     "execution_count": 13,
     "metadata": {},
     "output_type": "execute_result"
    }
   ],
   "source": [
    "nums"
   ]
  },
  {
   "cell_type": "code",
   "execution_count": 14,
   "id": "406f3899",
   "metadata": {},
   "outputs": [],
   "source": [
    "# 列表中有一个方法叫做sort,但注意有一个属性是reverse"
   ]
  },
  {
   "cell_type": "code",
   "execution_count": 15,
   "id": "d3cb9362",
   "metadata": {},
   "outputs": [
    {
     "data": {
      "text/plain": [
       "2"
      ]
     },
     "execution_count": 15,
     "metadata": {},
     "output_type": "execute_result"
    }
   ],
   "source": [
    "nums.index(14)"
   ]
  },
  {
   "cell_type": "code",
   "execution_count": 17,
   "id": "bef41de1",
   "metadata": {},
   "outputs": [
    {
     "data": {
      "text/plain": [
       "2"
      ]
     },
     "execution_count": 17,
     "metadata": {},
     "output_type": "execute_result"
    }
   ],
   "source": [
    "nums.count(2)"
   ]
  },
  {
   "cell_type": "code",
   "execution_count": 24,
   "id": "1d6fb02e",
   "metadata": {},
   "outputs": [
    {
     "data": {
      "text/plain": [
       "7"
      ]
     },
     "execution_count": 24,
     "metadata": {},
     "output_type": "execute_result"
    }
   ],
   "source": [
    "nums.index(2,-2,-1)"
   ]
  },
  {
   "cell_type": "code",
   "execution_count": 25,
   "id": "41858441",
   "metadata": {},
   "outputs": [],
   "source": [
    "nums[nums.index(2)]=100"
   ]
  },
  {
   "cell_type": "code",
   "execution_count": 26,
   "id": "ff7c4d1d",
   "metadata": {},
   "outputs": [
    {
     "data": {
      "text/plain": [
       "[45, 34, 14, 8, 8, 7, 6, 100, 2]"
      ]
     },
     "execution_count": 26,
     "metadata": {},
     "output_type": "execute_result"
    }
   ],
   "source": [
    "nums"
   ]
  },
  {
   "cell_type": "code",
   "execution_count": 27,
   "id": "ab95f53d",
   "metadata": {},
   "outputs": [],
   "source": [
    "nums[nums.index(2)]=100"
   ]
  },
  {
   "cell_type": "code",
   "execution_count": 29,
   "id": "0d13d685",
   "metadata": {},
   "outputs": [
    {
     "data": {
      "text/plain": [
       "[45, 34, 14, 8, 8, 7, 6, 100, 100]"
      ]
     },
     "execution_count": 29,
     "metadata": {},
     "output_type": "execute_result"
    }
   ],
   "source": [
    "nums"
   ]
  },
  {
   "cell_type": "code",
   "execution_count": 30,
   "id": "2c319316",
   "metadata": {},
   "outputs": [],
   "source": [
    "num_copy = nums.copy()"
   ]
  },
  {
   "cell_type": "code",
   "execution_count": 31,
   "id": "586ba2ae",
   "metadata": {},
   "outputs": [
    {
     "data": {
      "text/plain": [
       "[45, 34, 14, 8, 8, 7, 6, 100, 100]"
      ]
     },
     "execution_count": 31,
     "metadata": {},
     "output_type": "execute_result"
    }
   ],
   "source": [
    "num_copy"
   ]
  },
  {
   "cell_type": "code",
   "execution_count": 32,
   "id": "14cc86da",
   "metadata": {},
   "outputs": [
    {
     "data": {
      "text/plain": [
       "False"
      ]
     },
     "execution_count": 32,
     "metadata": {},
     "output_type": "execute_result"
    }
   ],
   "source": [
    "num_copy is nums"
   ]
  },
  {
   "cell_type": "code",
   "execution_count": 33,
   "id": "f8b5b115",
   "metadata": {},
   "outputs": [],
   "source": [
    "# 这种copy方法是浅拷贝,但是也实现了copy了整个值 的拷贝"
   ]
  }
 ],
 "metadata": {
  "kernelspec": {
   "display_name": "Python 3 (ipykernel)",
   "language": "python",
   "name": "python3"
  },
  "language_info": {
   "codemirror_mode": {
    "name": "ipython",
    "version": 3
   },
   "file_extension": ".py",
   "mimetype": "text/x-python",
   "name": "python",
   "nbconvert_exporter": "python",
   "pygments_lexer": "ipython3",
   "version": "3.9.13"
  }
 },
 "nbformat": 4,
 "nbformat_minor": 5
}
