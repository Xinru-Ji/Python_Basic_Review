{
 "cells": [
  {
   "cell_type": "code",
   "execution_count": 3,
   "id": "c611ad9f",
   "metadata": {},
   "outputs": [],
   "source": [
    "#  给列表的末尾添加一个指定的元素"
   ]
  },
  {
   "cell_type": "code",
   "execution_count": 4,
   "id": "2d6df770",
   "metadata": {},
   "outputs": [],
   "source": [
    "heros =  ['钢铁侠','绿巨人']"
   ]
  },
  {
   "cell_type": "code",
   "execution_count": 5,
   "id": "3f060c13",
   "metadata": {},
   "outputs": [],
   "source": [
    "heros.extend(['黑寡妇'])"
   ]
  },
  {
   "cell_type": "code",
   "execution_count": 6,
   "id": "36e9c245",
   "metadata": {},
   "outputs": [],
   "source": [
    "# extend 方法可以直接添加一个可迭代对象"
   ]
  },
  {
   "cell_type": "code",
   "execution_count": 7,
   "id": "7e9d4863",
   "metadata": {},
   "outputs": [],
   "source": [
    "heros.extend(['鹰眼','灭霸','雷神'])"
   ]
  },
  {
   "cell_type": "code",
   "execution_count": 8,
   "id": "72e3368b",
   "metadata": {},
   "outputs": [
    {
     "data": {
      "text/plain": [
       "['钢铁侠', '绿巨人', '黑寡妇', '鹰眼', '灭霸', '雷神']"
      ]
     },
     "execution_count": 8,
     "metadata": {},
     "output_type": "execute_result"
    }
   ],
   "source": [
    "heros"
   ]
  },
  {
   "cell_type": "code",
   "execution_count": 9,
   "id": "292c9407",
   "metadata": {},
   "outputs": [],
   "source": [
    "# 来看看切片"
   ]
  },
  {
   "cell_type": "code",
   "execution_count": 10,
   "id": "b2170dad",
   "metadata": {},
   "outputs": [],
   "source": [
    "s = [1,2,3,4,5]"
   ]
  },
  {
   "cell_type": "code",
   "execution_count": 13,
   "id": "64b35462",
   "metadata": {},
   "outputs": [],
   "source": [
    "s[len(s):]=[6]"
   ]
  },
  {
   "cell_type": "code",
   "execution_count": 14,
   "id": "a70ad52f",
   "metadata": {},
   "outputs": [
    {
     "data": {
      "text/plain": [
       "[1, 3, 5, 4, 5, 6]"
      ]
     },
     "execution_count": 14,
     "metadata": {},
     "output_type": "execute_result"
    }
   ],
   "source": [
    "s"
   ]
  },
  {
   "cell_type": "code",
   "execution_count": 15,
   "id": "bfc3e3c3",
   "metadata": {},
   "outputs": [],
   "source": [
    "s[len(s):]=[7,8,9]"
   ]
  },
  {
   "cell_type": "code",
   "execution_count": 16,
   "id": "40c81987",
   "metadata": {},
   "outputs": [],
   "source": [
    "# 切片的方法比较难，最好先用append逐个添加或者使用append方法"
   ]
  },
  {
   "cell_type": "code",
   "execution_count": 17,
   "id": "1098b85f",
   "metadata": {},
   "outputs": [],
   "source": [
    "# 有没有一种方法可以在列表的任意位置插入一个列表,\n",
    "# 我们需要用到一个insert()方法"
   ]
  },
  {
   "cell_type": "code",
   "execution_count": 37,
   "id": "1247d01d",
   "metadata": {},
   "outputs": [],
   "source": [
    "s = [1,2,3,4,5,6,7,8,9]"
   ]
  },
  {
   "cell_type": "code",
   "execution_count": 29,
   "id": "e393a323",
   "metadata": {},
   "outputs": [],
   "source": [
    "s.insert(2,'I am human')"
   ]
  },
  {
   "cell_type": "code",
   "execution_count": 30,
   "id": "c8f1be84",
   "metadata": {},
   "outputs": [
    {
     "data": {
      "text/plain": [
       "[1, 2, 'I am human', 3, 4, 5, 6, 7, 8, 9]"
      ]
     },
     "execution_count": 30,
     "metadata": {},
     "output_type": "execute_result"
    }
   ],
   "source": [
    "s"
   ]
  },
  {
   "cell_type": "code",
   "execution_count": null,
   "id": "4d702948",
   "metadata": {},
   "outputs": [],
   "source": [
    "# 我需要说明：insert(a,b)其中a表示的是插入到原来列表的哪个序号\n",
    "# b表示的把什么插入进去。"
   ]
  },
  {
   "cell_type": "code",
   "execution_count": 38,
   "id": "461c97ce",
   "metadata": {},
   "outputs": [],
   "source": [
    "s.insert(len(s),'This is the last element in this list.')"
   ]
  },
  {
   "cell_type": "code",
   "execution_count": 39,
   "id": "f912e490",
   "metadata": {},
   "outputs": [
    {
     "data": {
      "text/plain": [
       "[1, 2, 3, 4, 5, 6, 7, 8, 9, 'This is the last element in this list.']"
      ]
     },
     "execution_count": 39,
     "metadata": {},
     "output_type": "execute_result"
    }
   ],
   "source": [
    "s"
   ]
  },
  {
   "cell_type": "code",
   "execution_count": 40,
   "id": "ceb14ef0",
   "metadata": {},
   "outputs": [],
   "source": [
    "s.remove(1)"
   ]
  },
  {
   "cell_type": "code",
   "execution_count": 41,
   "id": "1ce49df0",
   "metadata": {},
   "outputs": [
    {
     "data": {
      "text/plain": [
       "[2, 3, 4, 5, 6, 7, 8, 9, 'This is the last element in this list.']"
      ]
     },
     "execution_count": 41,
     "metadata": {},
     "output_type": "execute_result"
    }
   ],
   "source": [
    "s"
   ]
  },
  {
   "cell_type": "code",
   "execution_count": 42,
   "id": "8600a781",
   "metadata": {},
   "outputs": [],
   "source": [
    "# 但对于 remove()方法我们需要指明要删除的元素"
   ]
  },
  {
   "cell_type": "code",
   "execution_count": 45,
   "id": "c7aa5052",
   "metadata": {},
   "outputs": [],
   "source": [
    "# 删除指定位置上的元素，用pop方法"
   ]
  },
  {
   "cell_type": "code",
   "execution_count": 49,
   "id": "cd42c213",
   "metadata": {},
   "outputs": [],
   "source": [
    "s1 = [\"张三\",\"李四\",\"大锤子\",\"不认识\"]"
   ]
  },
  {
   "cell_type": "code",
   "execution_count": 50,
   "id": "0804d543",
   "metadata": {},
   "outputs": [],
   "source": [
    "# 我想把\"大锤子”删掉"
   ]
  },
  {
   "cell_type": "code",
   "execution_count": 51,
   "id": "473b6ca8",
   "metadata": {},
   "outputs": [
    {
     "data": {
      "text/plain": [
       "'大锤子'"
      ]
     },
     "execution_count": 51,
     "metadata": {},
     "output_type": "execute_result"
    }
   ],
   "source": [
    "s1.pop(2)"
   ]
  },
  {
   "cell_type": "code",
   "execution_count": 52,
   "id": "b2d779a4",
   "metadata": {},
   "outputs": [
    {
     "data": {
      "text/plain": [
       "['张三', '李四', '不认识']"
      ]
     },
     "execution_count": 52,
     "metadata": {},
     "output_type": "execute_result"
    }
   ],
   "source": [
    "s1"
   ]
  },
  {
   "cell_type": "code",
   "execution_count": 53,
   "id": "77535e40",
   "metadata": {},
   "outputs": [],
   "source": [
    "s1.clear()"
   ]
  },
  {
   "cell_type": "code",
   "execution_count": 54,
   "id": "c6d135b1",
   "metadata": {},
   "outputs": [
    {
     "data": {
      "text/plain": [
       "[]"
      ]
     },
     "execution_count": 54,
     "metadata": {},
     "output_type": "execute_result"
    }
   ],
   "source": [
    "s1"
   ]
  }
 ],
 "metadata": {
  "kernelspec": {
   "display_name": "Python 3 (ipykernel)",
   "language": "python",
   "name": "python3"
  },
  "language_info": {
   "codemirror_mode": {
    "name": "ipython",
    "version": 3
   },
   "file_extension": ".py",
   "mimetype": "text/x-python",
   "name": "python",
   "nbconvert_exporter": "python",
   "pygments_lexer": "ipython3",
   "version": "3.9.13"
  }
 },
 "nbformat": 4,
 "nbformat_minor": 5
}
