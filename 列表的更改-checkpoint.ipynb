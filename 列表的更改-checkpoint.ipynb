{
 "cells": [
  {
   "cell_type": "code",
   "execution_count": 2,
   "id": "39acc5e7",
   "metadata": {},
   "outputs": [],
   "source": [
    "# 列表可变，但是字符串不可变·"
   ]
  },
  {
   "cell_type": "code",
   "execution_count": 5,
   "id": "d7909648",
   "metadata": {},
   "outputs": [],
   "source": [
    "heros = ['Alice0','Alice1','Alice2','Alice3','Alice4','Alice5']"
   ]
  },
  {
   "cell_type": "code",
   "execution_count": 6,
   "id": "4253029e",
   "metadata": {},
   "outputs": [
    {
     "data": {
      "text/plain": [
       "['Alice0', 'Alice1', 'Alice2', 'Alice3', 'Alice4', 'Alice5']"
      ]
     },
     "execution_count": 6,
     "metadata": {},
     "output_type": "execute_result"
    }
   ],
   "source": [
    "heros"
   ]
  },
  {
   "cell_type": "code",
   "execution_count": 8,
   "id": "1fb3e493",
   "metadata": {},
   "outputs": [],
   "source": [
    "heros[3:]=['Star3','Star4','Star5']"
   ]
  },
  {
   "cell_type": "code",
   "execution_count": 9,
   "id": "92326deb",
   "metadata": {},
   "outputs": [
    {
     "data": {
      "text/plain": [
       "['Alice0', 'Alice1', 'Alice2', 'Star3', 'Star4', 'Star5']"
      ]
     },
     "execution_count": 9,
     "metadata": {},
     "output_type": "execute_result"
    }
   ],
   "source": [
    "heros"
   ]
  },
  {
   "cell_type": "code",
   "execution_count": 10,
   "id": "6b95e479",
   "metadata": {},
   "outputs": [],
   "source": [
    "nums = [3,2,4,6,2]"
   ]
  },
  {
   "cell_type": "code",
   "execution_count": 13,
   "id": "38aef56f",
   "metadata": {},
   "outputs": [],
   "source": [
    "nums.sort()"
   ]
  },
  {
   "cell_type": "code",
   "execution_count": 14,
   "id": "35bc1eba",
   "metadata": {},
   "outputs": [
    {
     "data": {
      "text/plain": [
       "[2, 2, 3, 4, 6]"
      ]
     },
     "execution_count": 14,
     "metadata": {},
     "output_type": "execute_result"
    }
   ],
   "source": [
    "nums"
   ]
  },
  {
   "cell_type": "code",
   "execution_count": 17,
   "id": "9745af31",
   "metadata": {},
   "outputs": [],
   "source": [
    "nums.reverse()"
   ]
  },
  {
   "cell_type": "code",
   "execution_count": 26,
   "id": "e37591da",
   "metadata": {},
   "outputs": [
    {
     "data": {
      "text/plain": [
       "[2, 2, 3, 4, 6]"
      ]
     },
     "execution_count": 26,
     "metadata": {},
     "output_type": "execute_result"
    }
   ],
   "source": [
    "nums"
   ]
  },
  {
   "cell_type": "code",
   "execution_count": 28,
   "id": "46c6ffe0",
   "metadata": {},
   "outputs": [],
   "source": [
    "nums.sort(key = None, reverse = True)"
   ]
  },
  {
   "cell_type": "code",
   "execution_count": 37,
   "id": "ef3ea433",
   "metadata": {},
   "outputs": [
    {
     "data": {
      "text/plain": [
       "[6, 4, 3, 2, 2]"
      ]
     },
     "execution_count": 37,
     "metadata": {},
     "output_type": "execute_result"
    }
   ],
   "source": [
    "nums"
   ]
  },
  {
   "cell_type": "code",
   "execution_count": 30,
   "id": "c938547a",
   "metadata": {},
   "outputs": [],
   "source": [
    "# 列表里的sort()方法，也是可以倒置列表的原来的元素，\n",
    "# sort(key = None, reverse = True/False)"
   ]
  },
  {
   "cell_type": "code",
   "execution_count": 39,
   "id": "72bd7c90",
   "metadata": {},
   "outputs": [],
   "source": [
    "nums.sort()"
   ]
  },
  {
   "cell_type": "code",
   "execution_count": null,
   "id": "5019eeb9",
   "metadata": {},
   "outputs": [],
   "source": [
    "# 直接用sort是从小到大排列，但是如果参数改成 reverse = True\n",
    "# 那么排序结果就会变成从大到小"
   ]
  },
  {
   "cell_type": "code",
   "execution_count": 42,
   "id": "89c1eae0",
   "metadata": {},
   "outputs": [],
   "source": [
    "nums.sort(reverse = True)"
   ]
  },
  {
   "cell_type": "code",
   "execution_count": 43,
   "id": "8dd77d96",
   "metadata": {},
   "outputs": [
    {
     "data": {
      "text/plain": [
       "[6, 4, 3, 2, 2]"
      ]
     },
     "execution_count": 43,
     "metadata": {},
     "output_type": "execute_result"
    }
   ],
   "source": [
    "nums"
   ]
  },
  {
   "cell_type": "code",
   "execution_count": 44,
   "id": "f05bd203",
   "metadata": {},
   "outputs": [],
   "source": [
    "# 用count方法查找一个列表中有某个元素几次"
   ]
  },
  {
   "cell_type": "code",
   "execution_count": 46,
   "id": "12981e5e",
   "metadata": {},
   "outputs": [
    {
     "data": {
      "text/plain": [
       "2"
      ]
     },
     "execution_count": 46,
     "metadata": {},
     "output_type": "execute_result"
    }
   ],
   "source": [
    "nums.count(2)"
   ]
  },
  {
   "cell_type": "code",
   "execution_count": 47,
   "id": "c16af817",
   "metadata": {},
   "outputs": [
    {
     "data": {
      "text/plain": [
       "2"
      ]
     },
     "execution_count": 47,
     "metadata": {},
     "output_type": "execute_result"
    }
   ],
   "source": [
    "nums.index(3)"
   ]
  },
  {
   "cell_type": "code",
   "execution_count": 48,
   "id": "a10eb9fa",
   "metadata": {},
   "outputs": [],
   "source": [
    "# 那么很容易用查找某元素索引值这种方法，来替换某个元素为某个元素 "
   ]
  },
  {
   "cell_type": "code",
   "execution_count": 50,
   "id": "eaf469c8",
   "metadata": {},
   "outputs": [],
   "source": [
    "nums[nums.index(3)] = 9"
   ]
  },
  {
   "cell_type": "code",
   "execution_count": 51,
   "id": "ac635b91",
   "metadata": {},
   "outputs": [
    {
     "data": {
      "text/plain": [
       "[6, 4, 9, 2, 2]"
      ]
     },
     "execution_count": 51,
     "metadata": {},
     "output_type": "execute_result"
    }
   ],
   "source": [
    "nums"
   ]
  },
  {
   "cell_type": "code",
   "execution_count": 52,
   "id": "e5a0a51d",
   "metadata": {},
   "outputs": [],
   "source": [
    "# 多个相同元素，index会返回第一个元素的下标值"
   ]
  },
  {
   "cell_type": "code",
   "execution_count": 53,
   "id": "ad3e91e4",
   "metadata": {},
   "outputs": [],
   "source": [
    "newnums = [12,87,33,74,33,7,99,33]"
   ]
  },
  {
   "cell_type": "code",
   "execution_count": 54,
   "id": "486a36c3",
   "metadata": {},
   "outputs": [
    {
     "data": {
      "text/plain": [
       "True"
      ]
     },
     "execution_count": 54,
     "metadata": {},
     "output_type": "execute_result"
    }
   ],
   "source": [
    "newnums.index(33) == 2"
   ]
  },
  {
   "cell_type": "code",
   "execution_count": 55,
   "id": "199debbb",
   "metadata": {},
   "outputs": [],
   "source": [
    "# 列表的拷贝"
   ]
  },
  {
   "cell_type": "code",
   "execution_count": 56,
   "id": "90f1e406",
   "metadata": {},
   "outputs": [],
   "source": [
    "tonight = newnums.copy()"
   ]
  },
  {
   "cell_type": "code",
   "execution_count": 59,
   "id": "49bec94a",
   "metadata": {},
   "outputs": [
    {
     "data": {
      "text/plain": [
       "[12, 87, 33, 74, 33, 7, 99, 33]"
      ]
     },
     "execution_count": 59,
     "metadata": {},
     "output_type": "execute_result"
    }
   ],
   "source": [
    "tonight"
   ]
  },
  {
   "cell_type": "code",
   "execution_count": 60,
   "id": "ae6f5ca4",
   "metadata": {},
   "outputs": [],
   "source": [
    "new_tonight = tonight[:]"
   ]
  },
  {
   "cell_type": "code",
   "execution_count": 62,
   "id": "a0c6f159",
   "metadata": {},
   "outputs": [
    {
     "data": {
      "text/plain": [
       "[12, 87, 33, 74, 33, 7, 99, 33]"
      ]
     },
     "execution_count": 62,
     "metadata": {},
     "output_type": "execute_result"
    }
   ],
   "source": [
    "new_tonight"
   ]
  },
  {
   "cell_type": "code",
   "execution_count": 63,
   "id": "5d55bf46",
   "metadata": {},
   "outputs": [],
   "source": [
    "# 但是这两种拷贝的方法都叫做“shallow copy”"
   ]
  }
 ],
 "metadata": {
  "kernelspec": {
   "display_name": "Python 3 (ipykernel)",
   "language": "python",
   "name": "python3"
  },
  "language_info": {
   "codemirror_mode": {
    "name": "ipython",
    "version": 3
   },
   "file_extension": ".py",
   "mimetype": "text/x-python",
   "name": "python",
   "nbconvert_exporter": "python",
   "pygments_lexer": "ipython3",
   "version": "3.9.13"
  }
 },
 "nbformat": 4,
 "nbformat_minor": 5
}
