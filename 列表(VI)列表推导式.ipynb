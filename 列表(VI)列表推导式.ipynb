{
 "cells": [
  {
   "cell_type": "code",
   "execution_count": 15,
   "id": "55f42e85",
   "metadata": {},
   "outputs": [],
   "source": [
    "# list comprehension expression"
   ]
  },
  {
   "cell_type": "code",
   "execution_count": 16,
   "id": "1f17153f",
   "metadata": {},
   "outputs": [],
   "source": [
    "s = [1,2,3,4,5]"
   ]
  },
  {
   "cell_type": "code",
   "execution_count": 17,
   "id": "7a456837",
   "metadata": {},
   "outputs": [
    {
     "data": {
      "text/plain": [
       "[2, 4, 6, 8, 10]"
      ]
     },
     "execution_count": 17,
     "metadata": {},
     "output_type": "execute_result"
    }
   ],
   "source": [
    "for i in range(len(s)):\n",
    "    s[i] = s[i]*2\n",
    "s   "
   ]
  },
  {
   "cell_type": "code",
   "execution_count": 18,
   "id": "b3b8bdd7",
   "metadata": {},
   "outputs": [],
   "source": [
    "s = [1,2,3,4]"
   ]
  },
  {
   "cell_type": "code",
   "execution_count": 19,
   "id": "979a5ac9",
   "metadata": {},
   "outputs": [],
   "source": [
    "s = [i *2 for i in s]"
   ]
  },
  {
   "cell_type": "code",
   "execution_count": null,
   "id": "8f4bf0b5",
   "metadata": {},
   "outputs": [],
   "source": [
    "# 用列表推导式效率最高"
   ]
  },
  {
   "cell_type": "code",
   "execution_count": 20,
   "id": "60123bab",
   "metadata": {},
   "outputs": [
    {
     "data": {
      "text/plain": [
       "[2, 4, 6, 8]"
      ]
     },
     "execution_count": 20,
     "metadata": {},
     "output_type": "execute_result"
    }
   ],
   "source": [
    "s"
   ]
  },
  {
   "cell_type": "code",
   "execution_count": 21,
   "id": "f097cd8b",
   "metadata": {},
   "outputs": [],
   "source": [
    "# 列表推导式"
   ]
  },
  {
   "cell_type": "code",
   "execution_count": 23,
   "id": "aead5789",
   "metadata": {},
   "outputs": [],
   "source": [
    "# [expression for target in iterable]"
   ]
  },
  {
   "cell_type": "code",
   "execution_count": 29,
   "id": "740b3f4f",
   "metadata": {},
   "outputs": [],
   "source": [
    "x = [2*i for i in range(10)]"
   ]
  },
  {
   "cell_type": "code",
   "execution_count": 30,
   "id": "3ee19a25",
   "metadata": {},
   "outputs": [
    {
     "data": {
      "text/plain": [
       "[0, 2, 4, 6, 8, 10, 12, 14, 16, 18]"
      ]
     },
     "execution_count": 30,
     "metadata": {},
     "output_type": "execute_result"
    }
   ],
   "source": [
    "x"
   ]
  },
  {
   "cell_type": "code",
   "execution_count": 31,
   "id": "005a4466",
   "metadata": {},
   "outputs": [],
   "source": [
    "x = [i + 1 for i in range(10)]"
   ]
  },
  {
   "cell_type": "code",
   "execution_count": 32,
   "id": "718590e2",
   "metadata": {},
   "outputs": [
    {
     "data": {
      "text/plain": [
       "[1, 2, 3, 4, 5, 6, 7, 8, 9, 10]"
      ]
     },
     "execution_count": 32,
     "metadata": {},
     "output_type": "execute_result"
    }
   ],
   "source": [
    "x"
   ]
  },
  {
   "cell_type": "code",
   "execution_count": 33,
   "id": "0ac67025",
   "metadata": {},
   "outputs": [
    {
     "data": {
      "text/plain": [
       "[1, 2, 3, 4, 5, 6, 7, 8, 9, 10]"
      ]
     },
     "execution_count": 33,
     "metadata": {},
     "output_type": "execute_result"
    }
   ],
   "source": [
    "for i in range(10):\n",
    "    x[i] = i+1\n",
    "x"
   ]
  },
  {
   "cell_type": "code",
   "execution_count": 40,
   "id": "72cfd1d0",
   "metadata": {},
   "outputs": [],
   "source": [
    "q = \"ILOVEU\""
   ]
  },
  {
   "cell_type": "code",
   "execution_count": 41,
   "id": "91c247a8",
   "metadata": {},
   "outputs": [],
   "source": [
    "y = [i*2  for i in q]"
   ]
  },
  {
   "cell_type": "code",
   "execution_count": 42,
   "id": "7b5159b8",
   "metadata": {},
   "outputs": [
    {
     "data": {
      "text/plain": [
       "['II', 'LL', 'OO', 'VV', 'EE', 'UU']"
      ]
     },
     "execution_count": 42,
     "metadata": {},
     "output_type": "execute_result"
    }
   ],
   "source": [
    "y"
   ]
  },
  {
   "cell_type": "code",
   "execution_count": 35,
   "id": "1d995f99",
   "metadata": {},
   "outputs": [],
   "source": [
    "# 调用一个ord的内置函数,  "
   ]
  },
  {
   "cell_type": "code",
   "execution_count": 43,
   "id": "19b4f910",
   "metadata": {},
   "outputs": [],
   "source": [
    "code = [ord(c) for c in q]"
   ]
  },
  {
   "cell_type": "code",
   "execution_count": 45,
   "id": "afc67538",
   "metadata": {},
   "outputs": [
    {
     "data": {
      "text/plain": [
       "[73, 76, 79, 86, 69, 85]"
      ]
     },
     "execution_count": 45,
     "metadata": {},
     "output_type": "execute_result"
    }
   ],
   "source": [
    "code"
   ]
  },
  {
   "cell_type": "code",
   "execution_count": 46,
   "id": "15b1b280",
   "metadata": {},
   "outputs": [],
   "source": [
    "matrix = [[1,2,3],[4,5,6],[7,8,9]]"
   ]
  },
  {
   "cell_type": "code",
   "execution_count": 50,
   "id": "a6eee3af",
   "metadata": {},
   "outputs": [],
   "source": [
    "# 矩阵的第一行"
   ]
  },
  {
   "cell_type": "code",
   "execution_count": 51,
   "id": "a1036aa1",
   "metadata": {},
   "outputs": [
    {
     "data": {
      "text/plain": [
       "[1, 2, 3]"
      ]
     },
     "execution_count": 51,
     "metadata": {},
     "output_type": "execute_result"
    }
   ],
   "source": [
    "matrix[0]"
   ]
  },
  {
   "cell_type": "code",
   "execution_count": 52,
   "id": "4712d7ea",
   "metadata": {},
   "outputs": [],
   "source": [
    "# 矩阵的第一列"
   ]
  },
  {
   "cell_type": "code",
   "execution_count": 54,
   "id": "313eea53",
   "metadata": {},
   "outputs": [],
   "source": [
    "clo2 = [col[2] for col in matrix]"
   ]
  },
  {
   "cell_type": "code",
   "execution_count": 55,
   "id": "56ca2d59",
   "metadata": {},
   "outputs": [
    {
     "data": {
      "text/plain": [
       "[3, 6, 9]"
      ]
     },
     "execution_count": 55,
     "metadata": {},
     "output_type": "execute_result"
    }
   ],
   "source": [
    "clo2"
   ]
  },
  {
   "cell_type": "code",
   "execution_count": 59,
   "id": "5c05f665",
   "metadata": {},
   "outputs": [
    {
     "data": {
      "text/plain": [
       "1"
      ]
     },
     "execution_count": 59,
     "metadata": {},
     "output_type": "execute_result"
    }
   ],
   "source": [
    "matrix[0].index(2)"
   ]
  },
  {
   "cell_type": "code",
   "execution_count": 56,
   "id": "2e68a151",
   "metadata": {},
   "outputs": [],
   "source": [
    "# 取出矩阵对角元上的所有元素"
   ]
  },
  {
   "cell_type": "code",
   "execution_count": 63,
   "id": "3854a7a1",
   "metadata": {},
   "outputs": [],
   "source": [
    "diag = [d[matrix.index(d)] for d in matrix ]"
   ]
  },
  {
   "cell_type": "code",
   "execution_count": 64,
   "id": "ac205ea9",
   "metadata": {},
   "outputs": [
    {
     "data": {
      "text/plain": [
       "[1, 5, 9]"
      ]
     },
     "execution_count": 64,
     "metadata": {},
     "output_type": "execute_result"
    }
   ],
   "source": [
    "diag"
   ]
  },
  {
   "cell_type": "code",
   "execution_count": 65,
   "id": "2c4b2596",
   "metadata": {},
   "outputs": [],
   "source": [
    "# 我的一个思考方法就是这样：首先我想取出对角元素，那么我需要逐行的取，也就是说对\n",
    "# 对于第一行来说，我需要它的第一个元素；对于第二行来说我需要它的第二个元素；以此\n",
    "# 类推"
   ]
  },
  {
   "cell_type": "code",
   "execution_count": 80,
   "id": "f6c5fc0a",
   "metadata": {},
   "outputs": [],
   "source": [
    "list = [[1,2,3,4,5],[6,7,8,9,10],[11,12,13,14,15],[16,17,18,19,20],[21,22,23,24,25]]`b"
   ]
  },
  {
   "cell_type": "code",
   "execution_count": 86,
   "id": "c2b57054",
   "metadata": {},
   "outputs": [
    {
     "data": {
      "text/plain": [
       "[[1, 2, 3, 4, 5],\n",
       " [6, 7, 8, 9, 10],\n",
       " [11, 12, 13, 14, 15],\n",
       " [16, 17, 18, 19, 20],\n",
       " [21, 22, 23, 24, 25]]"
      ]
     },
     "execution_count": 86,
     "metadata": {},
     "output_type": "execute_result"
    }
   ],
   "source": [
    "list"
   ]
  },
  {
   "cell_type": "code",
   "execution_count": 67,
   "id": "4d68b9e1",
   "metadata": {},
   "outputs": [],
   "source": [
    "diag_list = [row[list.index(row)] for row in list]"
   ]
  },
  {
   "cell_type": "code",
   "execution_count": 68,
   "id": "234fc1ea",
   "metadata": {},
   "outputs": [
    {
     "data": {
      "text/plain": [
       "[1, 7, 13, 19, 25]"
      ]
     },
     "execution_count": 68,
     "metadata": {},
     "output_type": "execute_result"
    }
   ],
   "source": [
    "diag_list"
   ]
  },
  {
   "cell_type": "code",
   "execution_count": 69,
   "id": "a851edce",
   "metadata": {},
   "outputs": [],
   "source": [
    "# 这个方法取出了这个嵌套列表的对焦元"
   ]
  },
  {
   "cell_type": "code",
   "execution_count": null,
   "id": "ac4e7de5",
   "metadata": {},
   "outputs": [],
   "source": [
    "# 我突发奇想，想取一下次对角元"
   ]
  },
  {
   "cell_type": "code",
   "execution_count": 82,
   "id": "975373ee",
   "metadata": {},
   "outputs": [],
   "source": [
    "new_list = list[1:]"
   ]
  },
  {
   "cell_type": "code",
   "execution_count": 83,
   "id": "d4ecb91a",
   "metadata": {},
   "outputs": [
    {
     "data": {
      "text/plain": [
       "[[6, 7, 8, 9, 10],\n",
       " [11, 12, 13, 14, 15],\n",
       " [16, 17, 18, 19, 20],\n",
       " [21, 22, 23, 24, 25]]"
      ]
     },
     "execution_count": 83,
     "metadata": {},
     "output_type": "execute_result"
    }
   ],
   "source": [
    "new_list"
   ]
  },
  {
   "cell_type": "code",
   "execution_count": 84,
   "id": "6164eb99",
   "metadata": {},
   "outputs": [],
   "source": [
    "sub1_diag_list = [row[new_list.index(row)] for row in new_list]"
   ]
  },
  {
   "cell_type": "code",
   "execution_count": 85,
   "id": "b8a12af8",
   "metadata": {},
   "outputs": [
    {
     "data": {
      "text/plain": [
       "[6, 12, 18, 24]"
      ]
     },
     "execution_count": 85,
     "metadata": {},
     "output_type": "execute_result"
    }
   ],
   "source": [
    "sub1_diag_list"
   ]
  },
  {
   "cell_type": "code",
   "execution_count": 87,
   "id": "f2637029",
   "metadata": {},
   "outputs": [],
   "source": [
    "# 很棒！我搞定了下对角线"
   ]
  },
  {
   "cell_type": "code",
   "execution_count": 88,
   "id": "455bc71f",
   "metadata": {},
   "outputs": [],
   "source": [
    "# 接下来我搞上对角线，有点困难"
   ]
  },
  {
   "cell_type": "code",
   "execution_count": 89,
   "id": "e8dce3e8",
   "metadata": {},
   "outputs": [],
   "source": [
    "# 试试列表推导式+条件+多加一列"
   ]
  }
 ],
 "metadata": {
  "kernelspec": {
   "display_name": "Python 3 (ipykernel)",
   "language": "python",
   "name": "python3"
  },
  "language_info": {
   "codemirror_mode": {
    "name": "ipython",
    "version": 3
   },
   "file_extension": ".py",
   "mimetype": "text/x-python",
   "name": "python",
   "nbconvert_exporter": "python",
   "pygments_lexer": "ipython3",
   "version": "3.9.13"
  }
 },
 "nbformat": 4,
 "nbformat_minor": 5
}
