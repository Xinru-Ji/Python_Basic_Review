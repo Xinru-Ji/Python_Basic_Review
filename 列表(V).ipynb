{
 "cells": [
  {
   "cell_type": "code",
   "execution_count": 10,
   "id": "24823a42",
   "metadata": {},
   "outputs": [],
   "source": [
    "x = [1,2,3]"
   ]
  },
  {
   "cell_type": "code",
   "execution_count": 11,
   "id": "644524d2",
   "metadata": {},
   "outputs": [],
   "source": [
    "y = x"
   ]
  },
  {
   "cell_type": "code",
   "execution_count": 3,
   "id": "9d887b75",
   "metadata": {},
   "outputs": [],
   "source": [
    "# 在python中变量不是一个盒子"
   ]
  },
  {
   "cell_type": "code",
   "execution_count": 12,
   "id": "79cf5b1b",
   "metadata": {},
   "outputs": [],
   "source": [
    "x[1] = 1"
   ]
  },
  {
   "cell_type": "code",
   "execution_count": 13,
   "id": "a8ba4f8c",
   "metadata": {},
   "outputs": [
    {
     "data": {
      "text/plain": [
       "[1, 1, 3]"
      ]
     },
     "execution_count": 13,
     "metadata": {},
     "output_type": "execute_result"
    }
   ],
   "source": [
    "x"
   ]
  },
  {
   "cell_type": "code",
   "execution_count": 14,
   "id": "40ee1c48",
   "metadata": {},
   "outputs": [
    {
     "data": {
      "text/plain": [
       "[1, 1, 3]"
      ]
     },
     "execution_count": 14,
     "metadata": {},
     "output_type": "execute_result"
    }
   ],
   "source": [
    "y"
   ]
  },
  {
   "cell_type": "code",
   "execution_count": null,
   "id": "940dc0ec",
   "metadata": {},
   "outputs": [],
   "source": [
    "# 浅拷贝"
   ]
  },
  {
   "cell_type": "code",
   "execution_count": 18,
   "id": "64b69f09",
   "metadata": {},
   "outputs": [],
   "source": [
    "x = [1,2,3]"
   ]
  },
  {
   "cell_type": "code",
   "execution_count": 19,
   "id": "89c6af9c",
   "metadata": {},
   "outputs": [],
   "source": [
    "y = x.copy()"
   ]
  },
  {
   "cell_type": "code",
   "execution_count": 20,
   "id": "02c62587",
   "metadata": {},
   "outputs": [],
   "source": [
    "x[1] = 1"
   ]
  },
  {
   "cell_type": "code",
   "execution_count": 21,
   "id": "3a11d905",
   "metadata": {},
   "outputs": [
    {
     "data": {
      "text/plain": [
       "[1, 1, 3]"
      ]
     },
     "execution_count": 21,
     "metadata": {},
     "output_type": "execute_result"
    }
   ],
   "source": [
    "x"
   ]
  },
  {
   "cell_type": "code",
   "execution_count": 22,
   "id": "cd58ec34",
   "metadata": {},
   "outputs": [
    {
     "data": {
      "text/plain": [
       "[1, 2, 3]"
      ]
     },
     "execution_count": 22,
     "metadata": {},
     "output_type": "execute_result"
    }
   ],
   "source": [
    "y"
   ]
  },
  {
   "cell_type": "code",
   "execution_count": 23,
   "id": "33085ad1",
   "metadata": {},
   "outputs": [],
   "source": [
    "# 对于一维的列表,copy方法可以重新分配一个值"
   ]
  },
  {
   "cell_type": "code",
   "execution_count": 24,
   "id": "8764ccb8",
   "metadata": {},
   "outputs": [],
   "source": [
    "x = [1,3,3]"
   ]
  },
  {
   "cell_type": "code",
   "execution_count": 25,
   "id": "dc96681c",
   "metadata": {},
   "outputs": [],
   "source": [
    "y = x[:]"
   ]
  },
  {
   "cell_type": "code",
   "execution_count": 26,
   "id": "88e4d76d",
   "metadata": {},
   "outputs": [
    {
     "data": {
      "text/plain": [
       "[1, 3, 3]"
      ]
     },
     "execution_count": 26,
     "metadata": {},
     "output_type": "execute_result"
    }
   ],
   "source": [
    "y"
   ]
  },
  {
   "cell_type": "code",
   "execution_count": 27,
   "id": "4cbf2a55",
   "metadata": {},
   "outputs": [
    {
     "data": {
      "text/plain": [
       "False"
      ]
     },
     "execution_count": 27,
     "metadata": {},
     "output_type": "execute_result"
    }
   ],
   "source": [
    "x is y"
   ]
  },
  {
   "cell_type": "code",
   "execution_count": 28,
   "id": "421e7f0a",
   "metadata": {},
   "outputs": [],
   "source": [
    "# 处理一维列表浅拷贝都没有问题,一种方法是用list自带的list方法,另一种是用列表的切片"
   ]
  },
  {
   "cell_type": "code",
   "execution_count": 29,
   "id": "ffd7c045",
   "metadata": {},
   "outputs": [],
   "source": [
    "# 对于嵌套列表"
   ]
  },
  {
   "cell_type": "code",
   "execution_count": 30,
   "id": "858d8d88",
   "metadata": {},
   "outputs": [],
   "source": [
    "x = [[1,2,3],[4,5,6],[7,8,9]]"
   ]
  },
  {
   "cell_type": "code",
   "execution_count": 31,
   "id": "a8240aa4",
   "metadata": {},
   "outputs": [],
   "source": [
    "y = x.copy()"
   ]
  },
  {
   "cell_type": "code",
   "execution_count": 32,
   "id": "aa3432f2",
   "metadata": {},
   "outputs": [],
   "source": [
    "x[2][2]=0"
   ]
  },
  {
   "cell_type": "code",
   "execution_count": 33,
   "id": "ba03098a",
   "metadata": {},
   "outputs": [
    {
     "data": {
      "text/plain": [
       "[[1, 2, 3], [4, 5, 6], [7, 8, 0]]"
      ]
     },
     "execution_count": 33,
     "metadata": {},
     "output_type": "execute_result"
    }
   ],
   "source": [
    "x"
   ]
  },
  {
   "cell_type": "code",
   "execution_count": 34,
   "id": "fa5c09f3",
   "metadata": {},
   "outputs": [
    {
     "data": {
      "text/plain": [
       "[[1, 2, 3], [4, 5, 6], [7, 8, 0]]"
      ]
     },
     "execution_count": 34,
     "metadata": {},
     "output_type": "execute_result"
    }
   ],
   "source": [
    "y"
   ]
  },
  {
   "cell_type": "code",
   "execution_count": 35,
   "id": "859a37a5",
   "metadata": {},
   "outputs": [],
   "source": [
    "# 对于浅拷贝,只copy了外层"
   ]
  },
  {
   "cell_type": "code",
   "execution_count": 36,
   "id": "1c551933",
   "metadata": {},
   "outputs": [],
   "source": [
    "# 下边要进行深拷贝"
   ]
  },
  {
   "cell_type": "code",
   "execution_count": 37,
   "id": "8d0bff34",
   "metadata": {},
   "outputs": [],
   "source": [
    "x = [[1,2,3],[4,5,6],[7,8,9]]"
   ]
  },
  {
   "cell_type": "code",
   "execution_count": 40,
   "id": "1e68ca95",
   "metadata": {},
   "outputs": [],
   "source": [
    "import copy\n",
    "y = copy.copy(x)\n",
    "x[1][1]=100"
   ]
  },
  {
   "cell_type": "code",
   "execution_count": 41,
   "id": "c683e6e4",
   "metadata": {},
   "outputs": [
    {
     "data": {
      "text/plain": [
       "[[1, 2, 3], [4, 100, 6], [7, 8, 9]]"
      ]
     },
     "execution_count": 41,
     "metadata": {},
     "output_type": "execute_result"
    }
   ],
   "source": [
    "y"
   ]
  },
  {
   "cell_type": "code",
   "execution_count": 42,
   "id": "dbde0899",
   "metadata": {},
   "outputs": [],
   "source": [
    "# 则以上是copy方法的浅拷贝"
   ]
  },
  {
   "cell_type": "code",
   "execution_count": null,
   "id": "eee11572",
   "metadata": {},
   "outputs": [],
   "source": [
    "# 之所以默认不用深拷贝,是因为效率不高"
   ]
  }
 ],
 "metadata": {
  "kernelspec": {
   "display_name": "Python 3 (ipykernel)",
   "language": "python",
   "name": "python3"
  },
  "language_info": {
   "codemirror_mode": {
    "name": "ipython",
    "version": 3
   },
   "file_extension": ".py",
   "mimetype": "text/x-python",
   "name": "python",
   "nbconvert_exporter": "python",
   "pygments_lexer": "ipython3",
   "version": "3.9.13"
  }
 },
 "nbformat": 4,
 "nbformat_minor": 5
}
