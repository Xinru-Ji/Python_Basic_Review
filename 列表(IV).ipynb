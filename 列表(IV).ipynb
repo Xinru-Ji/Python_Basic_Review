{
 "cells": [
  {
   "cell_type": "code",
   "execution_count": 2,
   "id": "eaaf2c6d",
   "metadata": {},
   "outputs": [],
   "source": [
    "# 列表的加法和减法: concatenation and multiplication of list"
   ]
  },
  {
   "cell_type": "code",
   "execution_count": 3,
   "id": "4c5d793d",
   "metadata": {},
   "outputs": [],
   "source": [
    "s = [1,2,3]"
   ]
  },
  {
   "cell_type": "code",
   "execution_count": 4,
   "id": "9a08bde4",
   "metadata": {},
   "outputs": [],
   "source": [
    "t = [4,5,6]"
   ]
  },
  {
   "cell_type": "code",
   "execution_count": 6,
   "id": "1cc07b18",
   "metadata": {},
   "outputs": [],
   "source": [
    "ss = s*2\n",
    "st = s+t"
   ]
  },
  {
   "cell_type": "code",
   "execution_count": 9,
   "id": "55734b16",
   "metadata": {},
   "outputs": [
    {
     "data": {
      "text/plain": [
       "[1, 2, 3, 1, 2, 3]"
      ]
     },
     "execution_count": 9,
     "metadata": {},
     "output_type": "execute_result"
    }
   ],
   "source": [
    "ss"
   ]
  },
  {
   "cell_type": "code",
   "execution_count": 10,
   "id": "50896384",
   "metadata": {},
   "outputs": [
    {
     "data": {
      "text/plain": [
       "[1, 2, 3, 4, 5, 6]"
      ]
     },
     "execution_count": 10,
     "metadata": {},
     "output_type": "execute_result"
    }
   ],
   "source": [
    "st"
   ]
  },
  {
   "cell_type": "code",
   "execution_count": 11,
   "id": "ccb31ccb",
   "metadata": {},
   "outputs": [],
   "source": [
    "# 创建二维列表"
   ]
  },
  {
   "cell_type": "code",
   "execution_count": 12,
   "id": "75f35cf3",
   "metadata": {},
   "outputs": [],
   "source": [
    "matrix = [[1,2,3],[4,5,6],[7,8,9]]"
   ]
  },
  {
   "cell_type": "code",
   "execution_count": 13,
   "id": "b96304c3",
   "metadata": {},
   "outputs": [
    {
     "data": {
      "text/plain": [
       "[[1, 2, 3], [4, 5, 6], [7, 8, 9]]"
      ]
     },
     "execution_count": 13,
     "metadata": {},
     "output_type": "execute_result"
    }
   ],
   "source": [
    "matrix"
   ]
  },
  {
   "cell_type": "code",
   "execution_count": 14,
   "id": "b78c309c",
   "metadata": {},
   "outputs": [],
   "source": [
    "# 访问嵌套列表"
   ]
  },
  {
   "cell_type": "code",
   "execution_count": 17,
   "id": "04113bc7",
   "metadata": {},
   "outputs": [
    {
     "name": "stdout",
     "output_type": "stream",
     "text": [
      "1\n",
      "2\n",
      "3\n",
      "4\n",
      "5\n",
      "6\n",
      "7\n",
      "8\n",
      "9\n"
     ]
    }
   ],
   "source": [
    "for i in matrix:\n",
    "    for j in i:\n",
    "        print(j)"
   ]
  },
  {
   "cell_type": "code",
   "execution_count": 19,
   "id": "62bd6e20",
   "metadata": {},
   "outputs": [
    {
     "name": "stdout",
     "output_type": "stream",
     "text": [
      "1 2 3 3\n",
      "4 5 6 6\n",
      "7 8 9 9\n"
     ]
    }
   ],
   "source": [
    "for i in matrix:\n",
    "    for each in i:\n",
    "        print(each, end =\" \")\n",
    "    print(each)"
   ]
  },
  {
   "cell_type": "code",
   "execution_count": 20,
   "id": "d561c82d",
   "metadata": {},
   "outputs": [
    {
     "data": {
      "text/plain": [
       "6"
      ]
     },
     "execution_count": 20,
     "metadata": {},
     "output_type": "execute_result"
    }
   ],
   "source": [
    "matrix[1][2]"
   ]
  },
  {
   "cell_type": "code",
   "execution_count": 21,
   "id": "58979f18",
   "metadata": {},
   "outputs": [
    {
     "data": {
      "text/plain": [
       "1"
      ]
     },
     "execution_count": 21,
     "metadata": {},
     "output_type": "execute_result"
    }
   ],
   "source": [
    "matrix[0][0]"
   ]
  },
  {
   "cell_type": "code",
   "execution_count": 22,
   "id": "f658c445",
   "metadata": {},
   "outputs": [
    {
     "data": {
      "text/plain": [
       "9"
      ]
     },
     "execution_count": 22,
     "metadata": {},
     "output_type": "execute_result"
    }
   ],
   "source": [
    "matrix[2][2]"
   ]
  },
  {
   "cell_type": "code",
   "execution_count": 23,
   "id": "7278b007",
   "metadata": {},
   "outputs": [
    {
     "data": {
      "text/plain": [
       "[1, 2, 3]"
      ]
     },
     "execution_count": 23,
     "metadata": {},
     "output_type": "execute_result"
    }
   ],
   "source": [
    "matrix[0]"
   ]
  },
  {
   "cell_type": "code",
   "execution_count": 32,
   "id": "e6258bf8",
   "metadata": {},
   "outputs": [
    {
     "data": {
      "text/plain": [
       "3"
      ]
     },
     "execution_count": 32,
     "metadata": {},
     "output_type": "execute_result"
    }
   ],
   "source": [
    "matrix[0][2]"
   ]
  },
  {
   "cell_type": "code",
   "execution_count": 35,
   "id": "5942e49b",
   "metadata": {},
   "outputs": [
    {
     "data": {
      "text/plain": [
       "list"
      ]
     },
     "execution_count": 35,
     "metadata": {},
     "output_type": "execute_result"
    }
   ],
   "source": [
    "type(matrix)"
   ]
  },
  {
   "cell_type": "code",
   "execution_count": 36,
   "id": "19686480",
   "metadata": {},
   "outputs": [],
   "source": [
    "A = [0]*3"
   ]
  },
  {
   "cell_type": "code",
   "execution_count": 37,
   "id": "442d2ae6",
   "metadata": {},
   "outputs": [
    {
     "data": {
      "text/plain": [
       "[0, 0, 0]"
      ]
     },
     "execution_count": 37,
     "metadata": {},
     "output_type": "execute_result"
    }
   ],
   "source": [
    "A"
   ]
  },
  {
   "cell_type": "code",
   "execution_count": 39,
   "id": "e50dce9a",
   "metadata": {},
   "outputs": [],
   "source": [
    "for i in range(3):\n",
    "    A[i] = [0]*3"
   ]
  },
  {
   "cell_type": "code",
   "execution_count": 40,
   "id": "8d65ace6",
   "metadata": {},
   "outputs": [
    {
     "data": {
      "text/plain": [
       "[[0, 0, 0], [0, 0, 0], [0, 0, 0]]"
      ]
     },
     "execution_count": 40,
     "metadata": {},
     "output_type": "execute_result"
    }
   ],
   "source": [
    "A"
   ]
  },
  {
   "cell_type": "code",
   "execution_count": 41,
   "id": "97c77473",
   "metadata": {},
   "outputs": [],
   "source": [
    "B = [[0]*3]*3"
   ]
  },
  {
   "cell_type": "code",
   "execution_count": 42,
   "id": "b9a114ec",
   "metadata": {},
   "outputs": [
    {
     "data": {
      "text/plain": [
       "[[0, 0, 0], [0, 0, 0], [0, 0, 0]]"
      ]
     },
     "execution_count": 42,
     "metadata": {},
     "output_type": "execute_result"
    }
   ],
   "source": [
    "B"
   ]
  },
  {
   "cell_type": "code",
   "execution_count": 44,
   "id": "7fb43828",
   "metadata": {},
   "outputs": [],
   "source": [
    "B[1][1] = 1"
   ]
  },
  {
   "cell_type": "code",
   "execution_count": 45,
   "id": "af767a0d",
   "metadata": {},
   "outputs": [
    {
     "data": {
      "text/plain": [
       "[[0, 1, 0], [0, 1, 0], [0, 1, 0]]"
      ]
     },
     "execution_count": 45,
     "metadata": {},
     "output_type": "execute_result"
    }
   ],
   "source": [
    "B"
   ]
  },
  {
   "cell_type": "code",
   "execution_count": 47,
   "id": "ab331422",
   "metadata": {},
   "outputs": [],
   "source": [
    "# 可怕的是\"牵一发而动全身\" 原因是浅copy是copy了引用,但是并没有copy这个值"
   ]
  },
  {
   "cell_type": "code",
   "execution_count": 48,
   "id": "b6a29542",
   "metadata": {},
   "outputs": [
    {
     "data": {
      "text/plain": [
       "False"
      ]
     },
     "execution_count": 48,
     "metadata": {},
     "output_type": "execute_result"
    }
   ],
   "source": [
    "A[0] is A[2]"
   ]
  },
  {
   "cell_type": "code",
   "execution_count": 49,
   "id": "ddfa2ae8",
   "metadata": {},
   "outputs": [
    {
     "data": {
      "text/plain": [
       "False"
      ]
     },
     "execution_count": 49,
     "metadata": {},
     "output_type": "execute_result"
    }
   ],
   "source": [
    "A[1] is A[2]"
   ]
  },
  {
   "cell_type": "code",
   "execution_count": 50,
   "id": "b3244a0d",
   "metadata": {},
   "outputs": [
    {
     "data": {
      "text/plain": [
       "True"
      ]
     },
     "execution_count": 50,
     "metadata": {},
     "output_type": "execute_result"
    }
   ],
   "source": [
    "B[0] is B[1]"
   ]
  },
  {
   "cell_type": "code",
   "execution_count": 51,
   "id": "6b2255fa",
   "metadata": {},
   "outputs": [],
   "source": [
    "# 浅copy这是复制了引用"
   ]
  }
 ],
 "metadata": {
  "kernelspec": {
   "display_name": "Python 3 (ipykernel)",
   "language": "python",
   "name": "python3"
  },
  "language_info": {
   "codemirror_mode": {
    "name": "ipython",
    "version": 3
   },
   "file_extension": ".py",
   "mimetype": "text/x-python",
   "name": "python",
   "nbconvert_exporter": "python",
   "pygments_lexer": "ipython3",
   "version": "3.9.13"
  }
 },
 "nbformat": 4,
 "nbformat_minor": 5
}
